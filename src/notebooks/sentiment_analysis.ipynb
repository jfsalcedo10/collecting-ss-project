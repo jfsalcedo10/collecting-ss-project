{
 "cells": [
  {
   "cell_type": "markdown",
   "metadata": {},
   "source": [
    "# A Deep Dive into Fake news"
   ]
  },
  {
   "cell_type": "markdown",
   "metadata": {},
   "source": [
    "![fakenews.jpeg](data:image/jpeg;base64,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)"
   ]
  },
  {
   "cell_type": "markdown",
   "metadata": {},
   "source": [
    "Introduction and research question goes here!!!"
   ]
  },
  {
   "cell_type": "markdown",
   "metadata": {},
   "source": [
    "## Imports"
   ]
  },
  {
   "cell_type": "code",
   "execution_count": 1,
   "metadata": {},
   "outputs": [
    {
     "name": "stderr",
     "output_type": "stream",
     "text": [
      "[nltk_data] Downloading package vader_lexicon to\n",
      "[nltk_data]     C:\\Users\\juans\\AppData\\Roaming\\nltk_data...\n",
      "[nltk_data]   Package vader_lexicon is already up-to-date!\n"
     ]
    }
   ],
   "source": [
    "RANDOM_SEED = 1234\n",
    "\n",
    "# Basic imports\n",
    "from pathlib import Path\n",
    "import re\n",
    "import pandas as pd\n",
    "import numpy as np; np.random.seed(RANDOM_SEED)\n",
    "\n",
    "# Off the shell libraries\n",
    "import nltk\n",
    "from nltk.sentiment.vader import SentimentIntensityAnalyzer\n",
    "import eli5\n",
    "nltk.download('vader_lexicon')\n",
    "\n",
    "# Plotting\n",
    "import matplotlib.pyplot as plt\n",
    "import seaborn as sns\n",
    "\n",
    "\n",
    "# Basic path\n",
    "data_path = Path().resolve().parent / 'data'"
   ]
  },
  {
   "cell_type": "markdown",
   "metadata": {},
   "source": [
    "## Data Adquisition & preprocessing"
   ]
  },
  {
   "cell_type": "markdown",
   "metadata": {},
   "source": [
    "Initially, scraping techniques were considered to build our own dataset containing different sources of news articles to compare to their fake equivalents. However, this process became quite time consuming and complex as each web page has its own layout. Hence, a custom scraping script using BeautifulSoup and Selenium should be created. However, [Insert reference of WELFake_dataset] constructed a dataset with more than 72,000 articles from different sources (BBC,)"
   ]
  },
  {
   "cell_type": "code",
   "execution_count": 2,
   "metadata": {},
   "outputs": [
    {
     "name": "stdout",
     "output_type": "stream",
     "text": [
      "There are 72134 articles.\n"
     ]
    },
    {
     "data": {
      "text/html": [
       "<div>\n",
       "<style scoped>\n",
       "    .dataframe tbody tr th:only-of-type {\n",
       "        vertical-align: middle;\n",
       "    }\n",
       "\n",
       "    .dataframe tbody tr th {\n",
       "        vertical-align: top;\n",
       "    }\n",
       "\n",
       "    .dataframe thead th {\n",
       "        text-align: right;\n",
       "    }\n",
       "</style>\n",
       "<table border=\"1\" class=\"dataframe\">\n",
       "  <thead>\n",
       "    <tr style=\"text-align: right;\">\n",
       "      <th></th>\n",
       "      <th>title</th>\n",
       "      <th>text</th>\n",
       "      <th>label</th>\n",
       "    </tr>\n",
       "  </thead>\n",
       "  <tbody>\n",
       "    <tr>\n",
       "      <th>0</th>\n",
       "      <td>law enforcement on high alert following threat...</td>\n",
       "      <td>no comment is expected from barack obama membe...</td>\n",
       "      <td>1</td>\n",
       "    </tr>\n",
       "    <tr>\n",
       "      <th>1</th>\n",
       "      <td>NaN</td>\n",
       "      <td>did they post their votes for hillary already?</td>\n",
       "      <td>1</td>\n",
       "    </tr>\n",
       "    <tr>\n",
       "      <th>2</th>\n",
       "      <td>unbelievable! obama’s attorney general says mo...</td>\n",
       "      <td>now, most of the demonstrators gathered last n...</td>\n",
       "      <td>1</td>\n",
       "    </tr>\n",
       "    <tr>\n",
       "      <th>3</th>\n",
       "      <td>bobby jindal, raised hindu, uses story of chri...</td>\n",
       "      <td>a dozen politically active pastors came here f...</td>\n",
       "      <td>0</td>\n",
       "    </tr>\n",
       "    <tr>\n",
       "      <th>4</th>\n",
       "      <td>satan 2: russia unvelis an image of its terrif...</td>\n",
       "      <td>the rs-28 sarmat missile, dubbed satan 2, will...</td>\n",
       "      <td>1</td>\n",
       "    </tr>\n",
       "  </tbody>\n",
       "</table>\n",
       "</div>"
      ],
      "text/plain": [
       "                                               title  \\\n",
       "0  law enforcement on high alert following threat...   \n",
       "1                                                NaN   \n",
       "2  unbelievable! obama’s attorney general says mo...   \n",
       "3  bobby jindal, raised hindu, uses story of chri...   \n",
       "4  satan 2: russia unvelis an image of its terrif...   \n",
       "\n",
       "                                                text  label  \n",
       "0  no comment is expected from barack obama membe...      1  \n",
       "1     did they post their votes for hillary already?      1  \n",
       "2  now, most of the demonstrators gathered last n...      1  \n",
       "3  a dozen politically active pastors came here f...      0  \n",
       "4  the rs-28 sarmat missile, dubbed satan 2, will...      1  "
      ]
     },
     "execution_count": 2,
     "metadata": {},
     "output_type": "execute_result"
    }
   ],
   "source": [
    "df = pd.read_csv(data_path/'WELFake_Dataset.csv', index_col=[0]).replace('', np.nan)\n",
    "# Standardizing text to lower case\n",
    "df.title = df.title.str.strip().str.lower()\n",
    "df.text = df.text.str.strip().str.lower()\n",
    "print(f'There are {len(df)} articles.')\n",
    "df.head()"
   ]
  },
  {
   "cell_type": "markdown",
   "metadata": {},
   "source": [
    "As the dataset is quite big for the purpose of study, splitting it to work only with news articles that come from Reuters is a nice idea. Also, it is important to check for NAs and a good length of the article to have some meaning."
   ]
  },
  {
   "cell_type": "code",
   "execution_count": 3,
   "metadata": {},
   "outputs": [
    {
     "data": {
      "text/plain": [
       "<AxesSubplot:>"
      ]
     },
     "execution_count": 3,
     "metadata": {},
     "output_type": "execute_result"
    },
    {
     "data": {
      "image/png": "[encoded data removed]",
      "text/plain": [
       "<Figure size 720x720 with 1 Axes>"
      ]
     },
     "metadata": {
      "needs_background": "light"
     },
     "output_type": "display_data"
    }
   ],
   "source": [
    "#Checking Nulls\n",
    "plt.figure(figsize=(10, 10))\n",
    "sns.heatmap(df.isnull(),cbar=False)"
   ]
  },
  {
   "cell_type": "code",
   "execution_count": 4,
   "metadata": {},
   "outputs": [
    {
     "name": "stdout",
     "output_type": "stream",
     "text": [
      "There are 71537 articles after NA analysis.\n"
     ]
    },
    {
     "data": {
      "text/plain": [
       "<AxesSubplot:>"
      ]
     },
     "execution_count": 4,
     "metadata": {},
     "output_type": "execute_result"
    },
    {
     "data": {
      "image/png": "[encoded data removed]",
      "text/plain": [
       "<Figure size 720x720 with 1 Axes>"
      ]
     },
     "metadata": {
      "needs_background": "light"
     },
     "output_type": "display_data"
    }
   ],
   "source": [
    "#Remove NaN in column text\n",
    "df = df.dropna()\n",
    "print(f'There are {len(df)} articles after NA analysis.')\n",
    "plt.figure(figsize=(10, 10))\n",
    "sns.heatmap(df.isnull(),cbar=False)"
   ]
  },
  {
   "cell_type": "code",
   "execution_count": 5,
   "metadata": {},
   "outputs": [
    {
     "name": "stderr",
     "output_type": "stream",
     "text": [
      "C:\\Users\\juans\\AppData\\Local\\Temp\\ipykernel_16644\\3014720590.py:1: UserWarning: This pattern is interpreted as a regular expression, and has match groups. To actually get the groups, use str.extract.\n",
      "  df_reuters = df[df.text.str.contains(\"(reuters)\")].reset_index(drop= True)\n"
     ]
    },
    {
     "name": "stdout",
     "output_type": "stream",
     "text": [
      "There are 22297 articles.\n"
     ]
    },
    {
     "data": {
      "text/html": [
       "<div>\n",
       "<style scoped>\n",
       "    .dataframe tbody tr th:only-of-type {\n",
       "        vertical-align: middle;\n",
       "    }\n",
       "\n",
       "    .dataframe tbody tr th {\n",
       "        vertical-align: top;\n",
       "    }\n",
       "\n",
       "    .dataframe thead th {\n",
       "        text-align: right;\n",
       "    }\n",
       "</style>\n",
       "<table border=\"1\" class=\"dataframe\">\n",
       "  <thead>\n",
       "    <tr style=\"text-align: right;\">\n",
       "      <th></th>\n",
       "      <th>title</th>\n",
       "      <th>text</th>\n",
       "      <th>label</th>\n",
       "    </tr>\n",
       "  </thead>\n",
       "  <tbody>\n",
       "    <tr>\n",
       "      <th>0</th>\n",
       "      <td>may brexit offer would hurt, cost eu citizens ...</td>\n",
       "      <td>brussels (reuters) - british prime minister th...</td>\n",
       "      <td>0</td>\n",
       "    </tr>\n",
       "    <tr>\n",
       "      <th>1</th>\n",
       "      <td>schumer calls on trump to appoint official to ...</td>\n",
       "      <td>washington (reuters) - charles schumer, the to...</td>\n",
       "      <td>0</td>\n",
       "    </tr>\n",
       "    <tr>\n",
       "      <th>2</th>\n",
       "      <td>billionaire odebrecht in brazil scandal releas...</td>\n",
       "      <td>rio de janeiro/sao paulo (reuters) - billionai...</td>\n",
       "      <td>0</td>\n",
       "    </tr>\n",
       "    <tr>\n",
       "      <th>3</th>\n",
       "      <td>u.n. seeks humanitarian pause in sanaa where s...</td>\n",
       "      <td>geneva (reuters) - the united nations called o...</td>\n",
       "      <td>0</td>\n",
       "    </tr>\n",
       "    <tr>\n",
       "      <th>4</th>\n",
       "      <td>second judge says clinton email setup may have...</td>\n",
       "      <td>new york (reuters) - a second federal judge ha...</td>\n",
       "      <td>0</td>\n",
       "    </tr>\n",
       "  </tbody>\n",
       "</table>\n",
       "</div>"
      ],
      "text/plain": [
       "                                               title  \\\n",
       "0  may brexit offer would hurt, cost eu citizens ...   \n",
       "1  schumer calls on trump to appoint official to ...   \n",
       "2  billionaire odebrecht in brazil scandal releas...   \n",
       "3  u.n. seeks humanitarian pause in sanaa where s...   \n",
       "4  second judge says clinton email setup may have...   \n",
       "\n",
       "                                                text  label  \n",
       "0  brussels (reuters) - british prime minister th...      0  \n",
       "1  washington (reuters) - charles schumer, the to...      0  \n",
       "2  rio de janeiro/sao paulo (reuters) - billionai...      0  \n",
       "3  geneva (reuters) - the united nations called o...      0  \n",
       "4  new york (reuters) - a second federal judge ha...      0  "
      ]
     },
     "execution_count": 5,
     "metadata": {},
     "output_type": "execute_result"
    }
   ],
   "source": [
    "df_reuters = df[df.text.str.contains(\"(reuters)\")].reset_index(drop= True)\n",
    "print(f'There are {len(df_reuters)} articles.')\n",
    "df_reuters.head()"
   ]
  },
  {
   "cell_type": "markdown",
   "metadata": {},
   "source": [
    "We end up working with almost 22.3K articles from Reuters. Up next, we extract the location of such articles just to add extra info to our analysis. This is also helpful to remove cities for topic analysis"
   ]
  },
  {
   "cell_type": "code",
   "execution_count": 6,
   "metadata": {},
   "outputs": [
    {
     "data": {
      "text/html": [
       "<div>\n",
       "<style scoped>\n",
       "    .dataframe tbody tr th:only-of-type {\n",
       "        vertical-align: middle;\n",
       "    }\n",
       "\n",
       "    .dataframe tbody tr th {\n",
       "        vertical-align: top;\n",
       "    }\n",
       "\n",
       "    .dataframe thead th {\n",
       "        text-align: right;\n",
       "    }\n",
       "</style>\n",
       "<table border=\"1\" class=\"dataframe\">\n",
       "  <thead>\n",
       "    <tr style=\"text-align: right;\">\n",
       "      <th></th>\n",
       "      <th>title</th>\n",
       "      <th>text</th>\n",
       "      <th>label</th>\n",
       "      <th>location</th>\n",
       "    </tr>\n",
       "  </thead>\n",
       "  <tbody>\n",
       "    <tr>\n",
       "      <th>0</th>\n",
       "      <td>may brexit offer would hurt, cost eu citizens ...</td>\n",
       "      <td>brussels (reuters) - british prime minister th...</td>\n",
       "      <td>0</td>\n",
       "      <td>brussels</td>\n",
       "    </tr>\n",
       "    <tr>\n",
       "      <th>1</th>\n",
       "      <td>schumer calls on trump to appoint official to ...</td>\n",
       "      <td>washington (reuters) - charles schumer, the to...</td>\n",
       "      <td>0</td>\n",
       "      <td>washington</td>\n",
       "    </tr>\n",
       "    <tr>\n",
       "      <th>2</th>\n",
       "      <td>billionaire odebrecht in brazil scandal releas...</td>\n",
       "      <td>rio de janeiro/sao paulo (reuters) - billionai...</td>\n",
       "      <td>0</td>\n",
       "      <td>rio de janeiro/sao paulo</td>\n",
       "    </tr>\n",
       "    <tr>\n",
       "      <th>3</th>\n",
       "      <td>u.n. seeks humanitarian pause in sanaa where s...</td>\n",
       "      <td>geneva (reuters) - the united nations called o...</td>\n",
       "      <td>0</td>\n",
       "      <td>geneva</td>\n",
       "    </tr>\n",
       "    <tr>\n",
       "      <th>4</th>\n",
       "      <td>second judge says clinton email setup may have...</td>\n",
       "      <td>new york (reuters) - a second federal judge ha...</td>\n",
       "      <td>0</td>\n",
       "      <td>new york</td>\n",
       "    </tr>\n",
       "  </tbody>\n",
       "</table>\n",
       "</div>"
      ],
      "text/plain": [
       "                                               title  \\\n",
       "0  may brexit offer would hurt, cost eu citizens ...   \n",
       "1  schumer calls on trump to appoint official to ...   \n",
       "2  billionaire odebrecht in brazil scandal releas...   \n",
       "3  u.n. seeks humanitarian pause in sanaa where s...   \n",
       "4  second judge says clinton email setup may have...   \n",
       "\n",
       "                                                text  label  \\\n",
       "0  brussels (reuters) - british prime minister th...      0   \n",
       "1  washington (reuters) - charles schumer, the to...      0   \n",
       "2  rio de janeiro/sao paulo (reuters) - billionai...      0   \n",
       "3  geneva (reuters) - the united nations called o...      0   \n",
       "4  new york (reuters) - a second federal judge ha...      0   \n",
       "\n",
       "                    location  \n",
       "0                  brussels   \n",
       "1                washington   \n",
       "2  rio de janeiro/sao paulo   \n",
       "3                    geneva   \n",
       "4                  new york   "
      ]
     },
     "execution_count": 6,
     "metadata": {},
     "output_type": "execute_result"
    }
   ],
   "source": [
    "df_reuters['location'] = df_reuters['text'].str.extract(r'^(.+)(?=(\\(reuters\\)))')[0]\n",
    "df_reuters.head()"
   ]
  },
  {
   "cell_type": "markdown",
   "metadata": {},
   "source": [
    "As the original dataset is too big for uploading on GitHub, we then save a new one containing only the Reuters articles. This is done to accelerate further analysis."
   ]
  },
  {
   "cell_type": "code",
   "execution_count": 87,
   "metadata": {},
   "outputs": [],
   "source": [
    "df_reuters.to_csv(data_path/'WELFake_Reuters_data.csv')"
   ]
  },
  {
   "cell_type": "markdown",
   "metadata": {},
   "source": [
    "## Descriptive analysis"
   ]
  },
  {
   "cell_type": "code",
   "execution_count": null,
   "metadata": {},
   "outputs": [],
   "source": []
  },
  {
   "cell_type": "markdown",
   "metadata": {},
   "source": [
    "## Sentiment Analysis - Of the shell library"
   ]
  },
  {
   "cell_type": "markdown",
   "metadata": {},
   "source": [
    "As we are dealing with a large dataset, it was important to check overall sentiment of the articles in a fast way. That way, it should be interesting to check wether sentimente varies between fake news and real ones. Vader was the off the shell library to use as "
   ]
  },
  {
   "cell_type": "code",
   "execution_count": 8,
   "metadata": {},
   "outputs": [
    {
     "name": "stdout",
     "output_type": "stream",
     "text": [
      "Initializign predictions - 11:31:35\n",
      "Model working in article 22296 at 11:32:53\n",
      "Prediction complete at 11:32:53.\n"
     ]
    }
   ],
   "source": [
    "from datetime import datetime\n",
    "time = datetime.now().strftime(\"%H:%M:%S\")\n",
    "sent_analyzer = SentimentIntensityAnalyzer()\n",
    "text_corpus = df_reuters.text.to_list()\n",
    "predictions = []\n",
    "print(f'Initializign predictions - {time}')\n",
    "for idx,article in enumerate(text_corpus):\n",
    "    time = datetime.now().strftime(\"%H:%M:%S\")\n",
    "    print(f\"\\rModel working in article {idx} at {time}\", end=\"\") \n",
    "    score = sent_analyzer.polarity_scores(article)\n",
    "    result = {\n",
    "        'score': score['compound'],\n",
    "        'likelihood': 'pos' if score['compound'] > 0 else 'neg'\n",
    "    }\n",
    "\n",
    "    predictions.append(result)\n",
    "print(f'\\nPrediction complete at {time}.')"
   ]
  },
  {
   "cell_type": "code",
   "execution_count": 9,
   "metadata": {},
   "outputs": [
    {
     "data": {
      "text/html": [
       "<div>\n",
       "<style scoped>\n",
       "    .dataframe tbody tr th:only-of-type {\n",
       "        vertical-align: middle;\n",
       "    }\n",
       "\n",
       "    .dataframe tbody tr th {\n",
       "        vertical-align: top;\n",
       "    }\n",
       "\n",
       "    .dataframe thead th {\n",
       "        text-align: right;\n",
       "    }\n",
       "</style>\n",
       "<table border=\"1\" class=\"dataframe\">\n",
       "  <thead>\n",
       "    <tr style=\"text-align: right;\">\n",
       "      <th></th>\n",
       "      <th>score</th>\n",
       "      <th>likelihood</th>\n",
       "    </tr>\n",
       "  </thead>\n",
       "  <tbody>\n",
       "    <tr>\n",
       "      <th>0</th>\n",
       "      <td>-0.8757</td>\n",
       "      <td>neg</td>\n",
       "    </tr>\n",
       "    <tr>\n",
       "      <th>1</th>\n",
       "      <td>-0.9020</td>\n",
       "      <td>neg</td>\n",
       "    </tr>\n",
       "    <tr>\n",
       "      <th>2</th>\n",
       "      <td>-0.9638</td>\n",
       "      <td>neg</td>\n",
       "    </tr>\n",
       "    <tr>\n",
       "      <th>3</th>\n",
       "      <td>0.0000</td>\n",
       "      <td>neg</td>\n",
       "    </tr>\n",
       "    <tr>\n",
       "      <th>4</th>\n",
       "      <td>-0.9917</td>\n",
       "      <td>neg</td>\n",
       "    </tr>\n",
       "  </tbody>\n",
       "</table>\n",
       "</div>"
      ],
      "text/plain": [
       "    score likelihood\n",
       "0 -0.8757        neg\n",
       "1 -0.9020        neg\n",
       "2 -0.9638        neg\n",
       "3  0.0000        neg\n",
       "4 -0.9917        neg"
      ]
     },
     "execution_count": 9,
     "metadata": {},
     "output_type": "execute_result"
    }
   ],
   "source": [
    "df_pred = pd.DataFrame(predictions)\n",
    "df_pred.head()"
   ]
  },
  {
   "cell_type": "code",
   "execution_count": 10,
   "metadata": {},
   "outputs": [
    {
     "data": {
      "text/html": [
       "<div>\n",
       "<style scoped>\n",
       "    .dataframe tbody tr th:only-of-type {\n",
       "        vertical-align: middle;\n",
       "    }\n",
       "\n",
       "    .dataframe tbody tr th {\n",
       "        vertical-align: top;\n",
       "    }\n",
       "\n",
       "    .dataframe thead th {\n",
       "        text-align: right;\n",
       "    }\n",
       "</style>\n",
       "<table border=\"1\" class=\"dataframe\">\n",
       "  <thead>\n",
       "    <tr style=\"text-align: right;\">\n",
       "      <th></th>\n",
       "      <th>title</th>\n",
       "      <th>text</th>\n",
       "      <th>label</th>\n",
       "      <th>location</th>\n",
       "      <th>score</th>\n",
       "      <th>likelihood</th>\n",
       "    </tr>\n",
       "  </thead>\n",
       "  <tbody>\n",
       "    <tr>\n",
       "      <th>0</th>\n",
       "      <td>may brexit offer would hurt, cost eu citizens ...</td>\n",
       "      <td>brussels (reuters) - british prime minister th...</td>\n",
       "      <td>0</td>\n",
       "      <td>brussels</td>\n",
       "      <td>-0.8757</td>\n",
       "      <td>neg</td>\n",
       "    </tr>\n",
       "    <tr>\n",
       "      <th>1</th>\n",
       "      <td>schumer calls on trump to appoint official to ...</td>\n",
       "      <td>washington (reuters) - charles schumer, the to...</td>\n",
       "      <td>0</td>\n",
       "      <td>washington</td>\n",
       "      <td>-0.9020</td>\n",
       "      <td>neg</td>\n",
       "    </tr>\n",
       "    <tr>\n",
       "      <th>2</th>\n",
       "      <td>billionaire odebrecht in brazil scandal releas...</td>\n",
       "      <td>rio de janeiro/sao paulo (reuters) - billionai...</td>\n",
       "      <td>0</td>\n",
       "      <td>rio de janeiro/sao paulo</td>\n",
       "      <td>-0.9638</td>\n",
       "      <td>neg</td>\n",
       "    </tr>\n",
       "    <tr>\n",
       "      <th>3</th>\n",
       "      <td>u.n. seeks humanitarian pause in sanaa where s...</td>\n",
       "      <td>geneva (reuters) - the united nations called o...</td>\n",
       "      <td>0</td>\n",
       "      <td>geneva</td>\n",
       "      <td>0.0000</td>\n",
       "      <td>neg</td>\n",
       "    </tr>\n",
       "    <tr>\n",
       "      <th>4</th>\n",
       "      <td>second judge says clinton email setup may have...</td>\n",
       "      <td>new york (reuters) - a second federal judge ha...</td>\n",
       "      <td>0</td>\n",
       "      <td>new york</td>\n",
       "      <td>-0.9917</td>\n",
       "      <td>neg</td>\n",
       "    </tr>\n",
       "  </tbody>\n",
       "</table>\n",
       "</div>"
      ],
      "text/plain": [
       "                                               title  \\\n",
       "0  may brexit offer would hurt, cost eu citizens ...   \n",
       "1  schumer calls on trump to appoint official to ...   \n",
       "2  billionaire odebrecht in brazil scandal releas...   \n",
       "3  u.n. seeks humanitarian pause in sanaa where s...   \n",
       "4  second judge says clinton email setup may have...   \n",
       "\n",
       "                                                text  label  \\\n",
       "0  brussels (reuters) - british prime minister th...      0   \n",
       "1  washington (reuters) - charles schumer, the to...      0   \n",
       "2  rio de janeiro/sao paulo (reuters) - billionai...      0   \n",
       "3  geneva (reuters) - the united nations called o...      0   \n",
       "4  new york (reuters) - a second federal judge ha...      0   \n",
       "\n",
       "                    location   score likelihood  \n",
       "0                  brussels  -0.8757        neg  \n",
       "1                washington  -0.9020        neg  \n",
       "2  rio de janeiro/sao paulo  -0.9638        neg  \n",
       "3                    geneva   0.0000        neg  \n",
       "4                  new york  -0.9917        neg  "
      ]
     },
     "execution_count": 10,
     "metadata": {},
     "output_type": "execute_result"
    }
   ],
   "source": [
    "df_sent = df_reuters.join(df_pred)\n",
    "df_sent.head()"
   ]
  },
  {
   "cell_type": "markdown",
   "metadata": {},
   "source": [
    "## Sentiment analysis - Own approach"
   ]
  },
  {
   "cell_type": "markdown",
   "metadata": {},
   "source": [
    "After some preprocessing of the dataset, we then start"
   ]
  },
  {
   "cell_type": "code",
   "execution_count": 11,
   "metadata": {},
   "outputs": [
    {
     "data": {
      "text/plain": [
       "0    21643\n",
       "1      654\n",
       "Name: label, dtype: int64"
      ]
     },
     "execution_count": 11,
     "metadata": {},
     "output_type": "execute_result"
    }
   ],
   "source": [
    "df_reuters.label.value_counts()"
   ]
  },
  {
   "cell_type": "markdown",
   "metadata": {},
   "source": [
    "## Topic Classification - LDA"
   ]
  },
  {
   "cell_type": "code",
   "execution_count": null,
   "metadata": {},
   "outputs": [],
   "source": []
  },
  {
   "cell_type": "markdown",
   "metadata": {},
   "source": [
    "## Building a mode - Is the article fake or not?"
   ]
  }
 ],
 "metadata": {
  "interpreter": {
   "hash": "2f71c6d97197de50367c39b5b92eb0ff8b24551e15a8b3aab3209d20d3af69b3"
  },
  "kernelspec": {
   "display_name": "Python 3.9.12 ('collecting_ss_2022')",
   "language": "python",
   "name": "python3"
  },
  "language_info": {
   "codemirror_mode": {
    "name": "ipython",
    "version": 3
   },
   "file_extension": ".py",
   "mimetype": "text/x-python",
   "name": "python",
   "nbconvert_exporter": "python",
   "pygments_lexer": "ipython3",
   "version": "3.9.12"
  },
  "orig_nbformat": 4
 },
 "nbformat": 4,
 "nbformat_minor": 2
}
