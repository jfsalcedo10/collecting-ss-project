{
 "cells": [
  {
   "cell_type": "markdown",
   "metadata": {},
   "source": [
    "# Sentiment Analysis - WELFake_Dataset"
   ]
  },
  {
   "cell_type": "code",
   "execution_count": 81,
   "metadata": {},
   "outputs": [
    {
     "name": "stderr",
     "output_type": "stream",
     "text": [
      "[nltk_data] Downloading package vader_lexicon to\n",
      "[nltk_data]     C:\\Users\\juans\\AppData\\Roaming\\nltk_data...\n"
     ]
    }
   ],
   "source": [
    "RANDOM_SEED = 1234\n",
    "\n",
    "# Basic imports\n",
    "from pathlib import Path\n",
    "import re\n",
    "import pandas as pd\n",
    "import numpy as np; np.random.seed(RANDOM_SEED)\n",
    "\n",
    "# Off the shell libraries\n",
    "import nltk\n",
    "from nltk.sentiment.vader import SentimentIntensityAnalyzer\n",
    "import eli5\n",
    "nltk.download('vader_lexicon')\n",
    "\n",
    "# Plotting\n",
    "import matplotlib.pyplot as plt\n",
    "import seaborn as sns\n",
    "\n",
    "\n",
    "# Basic path\n",
    "data_path = Path().resolve().parent / 'data'"
   ]
  },
  {
   "cell_type": "markdown",
   "metadata": {},
   "source": [
    "## Data preprocessing"
   ]
  },
  {
   "cell_type": "code",
   "execution_count": 48,
   "metadata": {},
   "outputs": [
    {
     "name": "stdout",
     "output_type": "stream",
     "text": [
      "There are 72134 articles.\n"
     ]
    },
    {
     "data": {
      "text/html": [
       "<div>\n",
       "<style scoped>\n",
       "    .dataframe tbody tr th:only-of-type {\n",
       "        vertical-align: middle;\n",
       "    }\n",
       "\n",
       "    .dataframe tbody tr th {\n",
       "        vertical-align: top;\n",
       "    }\n",
       "\n",
       "    .dataframe thead th {\n",
       "        text-align: right;\n",
       "    }\n",
       "</style>\n",
       "<table border=\"1\" class=\"dataframe\">\n",
       "  <thead>\n",
       "    <tr style=\"text-align: right;\">\n",
       "      <th></th>\n",
       "      <th>title</th>\n",
       "      <th>text</th>\n",
       "      <th>label</th>\n",
       "    </tr>\n",
       "  </thead>\n",
       "  <tbody>\n",
       "    <tr>\n",
       "      <th>0</th>\n",
       "      <td>law enforcement on high alert following threat...</td>\n",
       "      <td>no comment is expected from barack obama membe...</td>\n",
       "      <td>1</td>\n",
       "    </tr>\n",
       "    <tr>\n",
       "      <th>1</th>\n",
       "      <td>nan</td>\n",
       "      <td>did they post their votes for hillary already?</td>\n",
       "      <td>1</td>\n",
       "    </tr>\n",
       "    <tr>\n",
       "      <th>2</th>\n",
       "      <td>unbelievable! obama’s attorney general says mo...</td>\n",
       "      <td>now, most of the demonstrators gathered last n...</td>\n",
       "      <td>1</td>\n",
       "    </tr>\n",
       "    <tr>\n",
       "      <th>3</th>\n",
       "      <td>bobby jindal, raised hindu, uses story of chri...</td>\n",
       "      <td>a dozen politically active pastors came here f...</td>\n",
       "      <td>0</td>\n",
       "    </tr>\n",
       "    <tr>\n",
       "      <th>4</th>\n",
       "      <td>satan 2: russia unvelis an image of its terrif...</td>\n",
       "      <td>the rs-28 sarmat missile, dubbed satan 2, will...</td>\n",
       "      <td>1</td>\n",
       "    </tr>\n",
       "  </tbody>\n",
       "</table>\n",
       "</div>"
      ],
      "text/plain": [
       "                                               title  \\\n",
       "0  law enforcement on high alert following threat...   \n",
       "1                                                nan   \n",
       "2  unbelievable! obama’s attorney general says mo...   \n",
       "3  bobby jindal, raised hindu, uses story of chri...   \n",
       "4  satan 2: russia unvelis an image of its terrif...   \n",
       "\n",
       "                                                text  label  \n",
       "0  no comment is expected from barack obama membe...      1  \n",
       "1     did they post their votes for hillary already?      1  \n",
       "2  now, most of the demonstrators gathered last n...      1  \n",
       "3  a dozen politically active pastors came here f...      0  \n",
       "4  the rs-28 sarmat missile, dubbed satan 2, will...      1  "
      ]
     },
     "execution_count": 48,
     "metadata": {},
     "output_type": "execute_result"
    }
   ],
   "source": [
    "df = pd.read_csv(data_path/'WELFake_Dataset.csv', index_col=[0]).replace('', np.nan)\n",
    "# Standardizing text to lower case\n",
    "df.title = df.title.str.strip().str.lower()\n",
    "df.text = df.text.str.strip().str.lower()\n",
    "print(f'There are {len(df)} articles.')\n",
    "df.head()"
   ]
  },
  {
   "cell_type": "markdown",
   "metadata": {},
   "source": [
    "As the dataset is quite big for the purpose of study, splitting it to work only with news articles that come from Reuters is a nice idea. Also, it is important to check for NAs and a good length of the article to have some meaning."
   ]
  },
  {
   "cell_type": "code",
   "execution_count": 25,
   "metadata": {},
   "outputs": [
    {
     "data": {
      "text/plain": [
       "<AxesSubplot:>"
      ]
     },
     "execution_count": 25,
     "metadata": {},
     "output_type": "execute_result"
    },
    {
     "data": {
      "image/png": "[encoded data removed]",
      "text/plain": [
       "<Figure size 720x720 with 1 Axes>"
      ]
     },
     "metadata": {
      "needs_background": "light"
     },
     "output_type": "display_data"
    }
   ],
   "source": [
    "#Checking Nulls\n",
    "plt.figure(figsize=(10, 10))\n",
    "sns.heatmap(df.isnull(),cbar=False)"
   ]
  },
  {
   "cell_type": "code",
   "execution_count": 50,
   "metadata": {},
   "outputs": [
    {
     "name": "stdout",
     "output_type": "stream",
     "text": [
      "There are 72134 articles after NA analysis.\n"
     ]
    },
    {
     "data": {
      "text/plain": [
       "<AxesSubplot:>"
      ]
     },
     "execution_count": 50,
     "metadata": {},
     "output_type": "execute_result"
    },
    {
     "data": {
      "image/png": "[encoded data removed]",
      "text/plain": [
       "<Figure size 720x720 with 1 Axes>"
      ]
     },
     "metadata": {
      "needs_background": "light"
     },
     "output_type": "display_data"
    }
   ],
   "source": [
    "#Remove NaN in column text\n",
    "df = df.dropna()\n",
    "print(f'There are {len(df)} articles after NA analysis.')\n",
    "plt.figure(figsize=(10, 10))\n",
    "sns.heatmap(df.isnull(),cbar=False)"
   ]
  },
  {
   "cell_type": "code",
   "execution_count": 57,
   "metadata": {},
   "outputs": [
    {
     "name": "stderr",
     "output_type": "stream",
     "text": [
      "C:\\Users\\juans\\AppData\\Local\\Temp\\ipykernel_28384\\3014720590.py:1: UserWarning: This pattern is interpreted as a regular expression, and has match groups. To actually get the groups, use str.extract.\n",
      "  df_reuters = df[df.text.str.contains(\"(reuters)\")].reset_index(drop= True)\n"
     ]
    },
    {
     "name": "stdout",
     "output_type": "stream",
     "text": [
      "There are 22299 articles.\n"
     ]
    },
    {
     "data": {
      "text/html": [
       "<div>\n",
       "<style scoped>\n",
       "    .dataframe tbody tr th:only-of-type {\n",
       "        vertical-align: middle;\n",
       "    }\n",
       "\n",
       "    .dataframe tbody tr th {\n",
       "        vertical-align: top;\n",
       "    }\n",
       "\n",
       "    .dataframe thead th {\n",
       "        text-align: right;\n",
       "    }\n",
       "</style>\n",
       "<table border=\"1\" class=\"dataframe\">\n",
       "  <thead>\n",
       "    <tr style=\"text-align: right;\">\n",
       "      <th></th>\n",
       "      <th>title</th>\n",
       "      <th>text</th>\n",
       "      <th>label</th>\n",
       "    </tr>\n",
       "  </thead>\n",
       "  <tbody>\n",
       "    <tr>\n",
       "      <th>0</th>\n",
       "      <td>may brexit offer would hurt, cost eu citizens ...</td>\n",
       "      <td>brussels (reuters) - british prime minister th...</td>\n",
       "      <td>0</td>\n",
       "    </tr>\n",
       "    <tr>\n",
       "      <th>1</th>\n",
       "      <td>schumer calls on trump to appoint official to ...</td>\n",
       "      <td>washington (reuters) - charles schumer, the to...</td>\n",
       "      <td>0</td>\n",
       "    </tr>\n",
       "    <tr>\n",
       "      <th>2</th>\n",
       "      <td>billionaire odebrecht in brazil scandal releas...</td>\n",
       "      <td>rio de janeiro/sao paulo (reuters) - billionai...</td>\n",
       "      <td>0</td>\n",
       "    </tr>\n",
       "    <tr>\n",
       "      <th>3</th>\n",
       "      <td>u.n. seeks humanitarian pause in sanaa where s...</td>\n",
       "      <td>geneva (reuters) - the united nations called o...</td>\n",
       "      <td>0</td>\n",
       "    </tr>\n",
       "    <tr>\n",
       "      <th>4</th>\n",
       "      <td>second judge says clinton email setup may have...</td>\n",
       "      <td>new york (reuters) - a second federal judge ha...</td>\n",
       "      <td>0</td>\n",
       "    </tr>\n",
       "  </tbody>\n",
       "</table>\n",
       "</div>"
      ],
      "text/plain": [
       "                                               title  \\\n",
       "0  may brexit offer would hurt, cost eu citizens ...   \n",
       "1  schumer calls on trump to appoint official to ...   \n",
       "2  billionaire odebrecht in brazil scandal releas...   \n",
       "3  u.n. seeks humanitarian pause in sanaa where s...   \n",
       "4  second judge says clinton email setup may have...   \n",
       "\n",
       "                                                text  label  \n",
       "0  brussels (reuters) - british prime minister th...      0  \n",
       "1  washington (reuters) - charles schumer, the to...      0  \n",
       "2  rio de janeiro/sao paulo (reuters) - billionai...      0  \n",
       "3  geneva (reuters) - the united nations called o...      0  \n",
       "4  new york (reuters) - a second federal judge ha...      0  "
      ]
     },
     "execution_count": 57,
     "metadata": {},
     "output_type": "execute_result"
    }
   ],
   "source": [
    "df_reuters = df[df.text.str.contains(\"(reuters)\")].reset_index(drop= True)\n",
    "print(f'There are {len(df_reuters)} articles.')\n",
    "df_reuters.head()"
   ]
  },
  {
   "cell_type": "markdown",
   "metadata": {},
   "source": [
    "We end up working with almost 22.3K articles from Reuters. Up next, we extract the location of such articles just to add extra info to our analysis. This is also helpful to remove cities for topic analysis"
   ]
  },
  {
   "cell_type": "code",
   "execution_count": 80,
   "metadata": {},
   "outputs": [
    {
     "data": {
      "text/html": [
       "<div>\n",
       "<style scoped>\n",
       "    .dataframe tbody tr th:only-of-type {\n",
       "        vertical-align: middle;\n",
       "    }\n",
       "\n",
       "    .dataframe tbody tr th {\n",
       "        vertical-align: top;\n",
       "    }\n",
       "\n",
       "    .dataframe thead th {\n",
       "        text-align: right;\n",
       "    }\n",
       "</style>\n",
       "<table border=\"1\" class=\"dataframe\">\n",
       "  <thead>\n",
       "    <tr style=\"text-align: right;\">\n",
       "      <th></th>\n",
       "      <th>title</th>\n",
       "      <th>text</th>\n",
       "      <th>label</th>\n",
       "      <th>location</th>\n",
       "    </tr>\n",
       "  </thead>\n",
       "  <tbody>\n",
       "    <tr>\n",
       "      <th>0</th>\n",
       "      <td>may brexit offer would hurt, cost eu citizens ...</td>\n",
       "      <td>brussels (reuters) - british prime minister th...</td>\n",
       "      <td>0</td>\n",
       "      <td>brussels</td>\n",
       "    </tr>\n",
       "    <tr>\n",
       "      <th>1</th>\n",
       "      <td>schumer calls on trump to appoint official to ...</td>\n",
       "      <td>washington (reuters) - charles schumer, the to...</td>\n",
       "      <td>0</td>\n",
       "      <td>washington</td>\n",
       "    </tr>\n",
       "    <tr>\n",
       "      <th>2</th>\n",
       "      <td>billionaire odebrecht in brazil scandal releas...</td>\n",
       "      <td>rio de janeiro/sao paulo (reuters) - billionai...</td>\n",
       "      <td>0</td>\n",
       "      <td>rio de janeiro/sao paulo</td>\n",
       "    </tr>\n",
       "    <tr>\n",
       "      <th>3</th>\n",
       "      <td>u.n. seeks humanitarian pause in sanaa where s...</td>\n",
       "      <td>geneva (reuters) - the united nations called o...</td>\n",
       "      <td>0</td>\n",
       "      <td>geneva</td>\n",
       "    </tr>\n",
       "    <tr>\n",
       "      <th>4</th>\n",
       "      <td>second judge says clinton email setup may have...</td>\n",
       "      <td>new york (reuters) - a second federal judge ha...</td>\n",
       "      <td>0</td>\n",
       "      <td>new york</td>\n",
       "    </tr>\n",
       "  </tbody>\n",
       "</table>\n",
       "</div>"
      ],
      "text/plain": [
       "                                               title  \\\n",
       "0  may brexit offer would hurt, cost eu citizens ...   \n",
       "1  schumer calls on trump to appoint official to ...   \n",
       "2  billionaire odebrecht in brazil scandal releas...   \n",
       "3  u.n. seeks humanitarian pause in sanaa where s...   \n",
       "4  second judge says clinton email setup may have...   \n",
       "\n",
       "                                                text  label  \\\n",
       "0  brussels (reuters) - british prime minister th...      0   \n",
       "1  washington (reuters) - charles schumer, the to...      0   \n",
       "2  rio de janeiro/sao paulo (reuters) - billionai...      0   \n",
       "3  geneva (reuters) - the united nations called o...      0   \n",
       "4  new york (reuters) - a second federal judge ha...      0   \n",
       "\n",
       "                    location  \n",
       "0                  brussels   \n",
       "1                washington   \n",
       "2  rio de janeiro/sao paulo   \n",
       "3                    geneva   \n",
       "4                  new york   "
      ]
     },
     "execution_count": 80,
     "metadata": {},
     "output_type": "execute_result"
    }
   ],
   "source": [
    "df_reuters['location'] = df_reuters['text'].str.extract(r'^(.+)(?=(\\(reuters\\)))')[0]\n",
    "df_reuters.head()"
   ]
  },
  {
   "cell_type": "markdown",
   "metadata": {},
   "source": [
    "As the original dataset is too big for uploading on GitHub, we then save a new one containing only the Reuters articles. This is done to accelerate further analysis."
   ]
  },
  {
   "cell_type": "code",
   "execution_count": 87,
   "metadata": {},
   "outputs": [],
   "source": [
    "df_reuters.to_csv(data_path/'WELFake_Reuters_data.csv')"
   ]
  },
  {
   "cell_type": "markdown",
   "metadata": {},
   "source": [
    "## Sentiment Analysis - Of the shell library"
   ]
  },
  {
   "cell_type": "markdown",
   "metadata": {},
   "source": [
    "As we are dealing with a large dataset, it was important to check overall sentiment of the articles in a fast way. That way, it should be interesting to check wether sentimente varies between fake news and real ones. Vader was the off the shell library to use as "
   ]
  },
  {
   "cell_type": "code",
   "execution_count": 86,
   "metadata": {},
   "outputs": [
    {
     "name": "stdout",
     "output_type": "stream",
     "text": [
      "Initializign predictions - 01:45:01\n",
      "Model working in article 22298 at 01:46:38\n",
      "Prediction complete at 01:46:38.\n"
     ]
    }
   ],
   "source": [
    "from datetime import datetime\n",
    "time = datetime.now().strftime(\"%H:%M:%S\")\n",
    "sent_analyzer = SentimentIntensityAnalyzer()\n",
    "text_corpus = df_reuters.text.to_list()\n",
    "predictions = []\n",
    "print(f'Initializign predictions - {time}')\n",
    "for idx,article in enumerate(text_corpus):\n",
    "    time = datetime.now().strftime(\"%H:%M:%S\")\n",
    "    print(f\"\\rModel working in article {idx} at {time}\", end=\"\") \n",
    "    score = sent_analyzer.polarity_scores(article)\n",
    "    result = {\n",
    "        'score': score['compound'],\n",
    "        'likelihood': 'pos' if score['compound'] > 0 else 'neg'\n",
    "    }\n",
    "\n",
    "    predictions.append(result)\n",
    "print(f'\\nPrediction complete at {time}.')"
   ]
  },
  {
   "cell_type": "markdown",
   "metadata": {},
   "source": [
    "## Sentiment analysis - Own approach"
   ]
  },
  {
   "cell_type": "markdown",
   "metadata": {},
   "source": [
    "After some preprocessing of the dataset, we then start"
   ]
  },
  {
   "cell_type": "code",
   "execution_count": 10,
   "metadata": {},
   "outputs": [
    {
     "data": {
      "text/plain": [
       "'law enforcement on high alert following threats against cops and whites on 9-11by #blacklivesmatter and #fyf911 terrorists [video]'"
      ]
     },
     "execution_count": 10,
     "metadata": {},
     "output_type": "execute_result"
    }
   ],
   "source": [
    "df.iloc[0].title"
   ]
  }
 ],
 "metadata": {
  "interpreter": {
   "hash": "2f71c6d97197de50367c39b5b92eb0ff8b24551e15a8b3aab3209d20d3af69b3"
  },
  "kernelspec": {
   "display_name": "Python 3.9.12 ('collecting_ss_2022')",
   "language": "python",
   "name": "python3"
  },
  "language_info": {
   "codemirror_mode": {
    "name": "ipython",
    "version": 3
   },
   "file_extension": ".py",
   "mimetype": "text/x-python",
   "name": "python",
   "nbconvert_exporter": "python",
   "pygments_lexer": "ipython3",
   "version": "3.9.12"
  },
  "orig_nbformat": 4
 },
 "nbformat": 4,
 "nbformat_minor": 2
}
